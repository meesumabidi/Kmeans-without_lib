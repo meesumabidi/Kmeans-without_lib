{
  "nbformat": 4,
  "nbformat_minor": 0,
  "metadata": {
    "colab": {
      "provenance": [],
      "collapsed_sections": [],
      "authorship_tag": "ABX9TyPHYpXjYEMX783jw1NETnYw",
      "include_colab_link": true
    },
    "kernelspec": {
      "name": "python3",
      "display_name": "Python 3"
    },
    "language_info": {
      "name": "python"
    }
  },
  "cells": [
    {
      "cell_type": "markdown",
      "metadata": {
        "id": "view-in-github",
        "colab_type": "text"
      },
      "source": [
        "<a href=\"https://colab.research.google.com/github/meesumabidi/Kmeans-without_lib/blob/main/kmeans.ipynb\" target=\"_parent\"><img src=\"https://colab.research.google.com/assets/colab-badge.svg\" alt=\"Open In Colab\"/></a>"
      ]
    },
    {
      "cell_type": "code",
      "source": [
        "import pandas as pd\n",
        "import numpy as np\n",
        "import random as rd\n",
        "import matplotlib.pyplot as plt"
      ],
      "metadata": {
        "id": "UaiBCsmGbzJd"
      },
      "execution_count": null,
      "outputs": []
    },
    {
      "cell_type": "code",
      "execution_count": null,
      "metadata": {
        "colab": {
          "base_uri": "https://localhost:8080/",
          "height": 300
        },
        "id": "ZhLWYkKEazho",
        "outputId": "a1bbf3eb-6b73-48f9-c3ba-c7453d28ae5b"
      },
      "outputs": [
        {
          "output_type": "execute_result",
          "data": {
            "text/html": [
              "\n",
              "  <div id=\"df-6b0fb0fa-fc5b-44a9-a142-bf6df85bafde\">\n",
              "    <div class=\"colab-df-container\">\n",
              "      <div>\n",
              "<style scoped>\n",
              "    .dataframe tbody tr th:only-of-type {\n",
              "        vertical-align: middle;\n",
              "    }\n",
              "\n",
              "    .dataframe tbody tr th {\n",
              "        vertical-align: top;\n",
              "    }\n",
              "\n",
              "    .dataframe thead th {\n",
              "        text-align: right;\n",
              "    }\n",
              "</style>\n",
              "<table border=\"1\" class=\"dataframe\">\n",
              "  <thead>\n",
              "    <tr style=\"text-align: right;\">\n",
              "      <th></th>\n",
              "      <th>CustomerID</th>\n",
              "      <th>Age</th>\n",
              "      <th>Annual Income (k$)</th>\n",
              "      <th>Spending Score (1-100)</th>\n",
              "    </tr>\n",
              "  </thead>\n",
              "  <tbody>\n",
              "    <tr>\n",
              "      <th>count</th>\n",
              "      <td>200.000000</td>\n",
              "      <td>200.000000</td>\n",
              "      <td>200.000000</td>\n",
              "      <td>200.000000</td>\n",
              "    </tr>\n",
              "    <tr>\n",
              "      <th>mean</th>\n",
              "      <td>100.500000</td>\n",
              "      <td>38.850000</td>\n",
              "      <td>60.560000</td>\n",
              "      <td>50.200000</td>\n",
              "    </tr>\n",
              "    <tr>\n",
              "      <th>std</th>\n",
              "      <td>57.879185</td>\n",
              "      <td>13.969007</td>\n",
              "      <td>26.264721</td>\n",
              "      <td>25.823522</td>\n",
              "    </tr>\n",
              "    <tr>\n",
              "      <th>min</th>\n",
              "      <td>1.000000</td>\n",
              "      <td>18.000000</td>\n",
              "      <td>15.000000</td>\n",
              "      <td>1.000000</td>\n",
              "    </tr>\n",
              "    <tr>\n",
              "      <th>25%</th>\n",
              "      <td>50.750000</td>\n",
              "      <td>28.750000</td>\n",
              "      <td>41.500000</td>\n",
              "      <td>34.750000</td>\n",
              "    </tr>\n",
              "    <tr>\n",
              "      <th>50%</th>\n",
              "      <td>100.500000</td>\n",
              "      <td>36.000000</td>\n",
              "      <td>61.500000</td>\n",
              "      <td>50.000000</td>\n",
              "    </tr>\n",
              "    <tr>\n",
              "      <th>75%</th>\n",
              "      <td>150.250000</td>\n",
              "      <td>49.000000</td>\n",
              "      <td>78.000000</td>\n",
              "      <td>73.000000</td>\n",
              "    </tr>\n",
              "    <tr>\n",
              "      <th>max</th>\n",
              "      <td>200.000000</td>\n",
              "      <td>70.000000</td>\n",
              "      <td>137.000000</td>\n",
              "      <td>99.000000</td>\n",
              "    </tr>\n",
              "  </tbody>\n",
              "</table>\n",
              "</div>\n",
              "      <button class=\"colab-df-convert\" onclick=\"convertToInteractive('df-6b0fb0fa-fc5b-44a9-a142-bf6df85bafde')\"\n",
              "              title=\"Convert this dataframe to an interactive table.\"\n",
              "              style=\"display:none;\">\n",
              "        \n",
              "  <svg xmlns=\"http://www.w3.org/2000/svg\" height=\"24px\"viewBox=\"0 0 24 24\"\n",
              "       width=\"24px\">\n",
              "    <path d=\"M0 0h24v24H0V0z\" fill=\"none\"/>\n",
              "    <path d=\"M18.56 5.44l.94 2.06.94-2.06 2.06-.94-2.06-.94-.94-2.06-.94 2.06-2.06.94zm-11 1L8.5 8.5l.94-2.06 2.06-.94-2.06-.94L8.5 2.5l-.94 2.06-2.06.94zm10 10l.94 2.06.94-2.06 2.06-.94-2.06-.94-.94-2.06-.94 2.06-2.06.94z\"/><path d=\"M17.41 7.96l-1.37-1.37c-.4-.4-.92-.59-1.43-.59-.52 0-1.04.2-1.43.59L10.3 9.45l-7.72 7.72c-.78.78-.78 2.05 0 2.83L4 21.41c.39.39.9.59 1.41.59.51 0 1.02-.2 1.41-.59l7.78-7.78 2.81-2.81c.8-.78.8-2.07 0-2.86zM5.41 20L4 18.59l7.72-7.72 1.47 1.35L5.41 20z\"/>\n",
              "  </svg>\n",
              "      </button>\n",
              "      \n",
              "  <style>\n",
              "    .colab-df-container {\n",
              "      display:flex;\n",
              "      flex-wrap:wrap;\n",
              "      gap: 12px;\n",
              "    }\n",
              "\n",
              "    .colab-df-convert {\n",
              "      background-color: #E8F0FE;\n",
              "      border: none;\n",
              "      border-radius: 50%;\n",
              "      cursor: pointer;\n",
              "      display: none;\n",
              "      fill: #1967D2;\n",
              "      height: 32px;\n",
              "      padding: 0 0 0 0;\n",
              "      width: 32px;\n",
              "    }\n",
              "\n",
              "    .colab-df-convert:hover {\n",
              "      background-color: #E2EBFA;\n",
              "      box-shadow: 0px 1px 2px rgba(60, 64, 67, 0.3), 0px 1px 3px 1px rgba(60, 64, 67, 0.15);\n",
              "      fill: #174EA6;\n",
              "    }\n",
              "\n",
              "    [theme=dark] .colab-df-convert {\n",
              "      background-color: #3B4455;\n",
              "      fill: #D2E3FC;\n",
              "    }\n",
              "\n",
              "    [theme=dark] .colab-df-convert:hover {\n",
              "      background-color: #434B5C;\n",
              "      box-shadow: 0px 1px 3px 1px rgba(0, 0, 0, 0.15);\n",
              "      filter: drop-shadow(0px 1px 2px rgba(0, 0, 0, 0.3));\n",
              "      fill: #FFFFFF;\n",
              "    }\n",
              "  </style>\n",
              "\n",
              "      <script>\n",
              "        const buttonEl =\n",
              "          document.querySelector('#df-6b0fb0fa-fc5b-44a9-a142-bf6df85bafde button.colab-df-convert');\n",
              "        buttonEl.style.display =\n",
              "          google.colab.kernel.accessAllowed ? 'block' : 'none';\n",
              "\n",
              "        async function convertToInteractive(key) {\n",
              "          const element = document.querySelector('#df-6b0fb0fa-fc5b-44a9-a142-bf6df85bafde');\n",
              "          const dataTable =\n",
              "            await google.colab.kernel.invokeFunction('convertToInteractive',\n",
              "                                                     [key], {});\n",
              "          if (!dataTable) return;\n",
              "\n",
              "          const docLinkHtml = 'Like what you see? Visit the ' +\n",
              "            '<a target=\"_blank\" href=https://colab.research.google.com/notebooks/data_table.ipynb>data table notebook</a>'\n",
              "            + ' to learn more about interactive tables.';\n",
              "          element.innerHTML = '';\n",
              "          dataTable['output_type'] = 'display_data';\n",
              "          await google.colab.output.renderOutput(dataTable, element);\n",
              "          const docLink = document.createElement('div');\n",
              "          docLink.innerHTML = docLinkHtml;\n",
              "          element.appendChild(docLink);\n",
              "        }\n",
              "      </script>\n",
              "    </div>\n",
              "  </div>\n",
              "  "
            ],
            "text/plain": [
              "       CustomerID         Age  Annual Income (k$)  Spending Score (1-100)\n",
              "count  200.000000  200.000000          200.000000              200.000000\n",
              "mean   100.500000   38.850000           60.560000               50.200000\n",
              "std     57.879185   13.969007           26.264721               25.823522\n",
              "min      1.000000   18.000000           15.000000                1.000000\n",
              "25%     50.750000   28.750000           41.500000               34.750000\n",
              "50%    100.500000   36.000000           61.500000               50.000000\n",
              "75%    150.250000   49.000000           78.000000               73.000000\n",
              "max    200.000000   70.000000          137.000000               99.000000"
            ]
          },
          "metadata": {},
          "execution_count": 6
        }
      ],
      "source": [
        "dataset=pd.read_csv('/content/Mall_Customers.csv')\n",
        "dataset.describe()"
      ]
    },
    {
      "cell_type": "code",
      "source": [
        "X = dataset.iloc[:, [3, 4]].values"
      ],
      "metadata": {
        "id": "kL17L8zXa6nV"
      },
      "execution_count": null,
      "outputs": []
    },
    {
      "cell_type": "code",
      "source": [
        "m=X.shape[0] #number of training examples\n",
        "n=X.shape[1] #number of features. Here n=2\n",
        "n_iter=100"
      ],
      "metadata": {
        "id": "WEdWslwUa7oc"
      },
      "execution_count": null,
      "outputs": []
    },
    {
      "cell_type": "code",
      "source": [
        "K=5 # number of clusters"
      ],
      "metadata": {
        "id": "mSSU_kDua8tT"
      },
      "execution_count": null,
      "outputs": []
    },
    {
      "cell_type": "code",
      "source": [
        "Centroids=np.array([]).reshape(n,0) "
      ],
      "metadata": {
        "id": "1zXbsvFaa9f8"
      },
      "execution_count": null,
      "outputs": []
    },
    {
      "cell_type": "code",
      "source": [
        "for i in range(K):\n",
        "    rand=rd.randint(0,m-1)\n",
        "    Centroids=np.c_[Centroids,X[rand]]"
      ],
      "metadata": {
        "id": "Woh82poFa-ZM"
      },
      "execution_count": null,
      "outputs": []
    },
    {
      "cell_type": "code",
      "source": [
        "Output={}"
      ],
      "metadata": {
        "id": "9xJjgbGSa_t7"
      },
      "execution_count": null,
      "outputs": []
    },
    {
      "cell_type": "code",
      "source": [
        "EuclidianDistance=np.array([]).reshape(m,0)\n",
        "for k in range(K):\n",
        "        tempDist=np.sum((X-Centroids[:,k])**2,axis=1)\n",
        "        EuclidianDistance=np.c_[EuclidianDistance,tempDist]\n",
        "C=np.argmin(EuclidianDistance,axis=1)+1"
      ],
      "metadata": {
        "id": "CHFmk48ia_zF"
      },
      "execution_count": null,
      "outputs": []
    },
    {
      "cell_type": "code",
      "source": [
        "Y={}\n",
        "for k in range(K):\n",
        "    Y[k+1]=np.array([]).reshape(2,0)\n",
        "for i in range(m):\n",
        "    Y[C[i]]=np.c_[Y[C[i]],X[i]]\n",
        "     \n",
        "for k in range(K):\n",
        "    Y[k+1]=Y[k+1].T\n",
        "    \n",
        "for k in range(K):\n",
        "     Centroids[:,k]=np.mean(Y[k+1],axis=0)"
      ],
      "metadata": {
        "id": "HgePBVG0bDZc"
      },
      "execution_count": null,
      "outputs": []
    },
    {
      "cell_type": "code",
      "source": [
        "for i in range(n_iter):\n",
        "     #step 2.a\n",
        "      EuclidianDistance=np.array([]).reshape(m,0)\n",
        "      for k in range(K):\n",
        "          tempDist=np.sum((X-Centroids[:,k])**2,axis=1)\n",
        "          EuclidianDistance=np.c_[EuclidianDistance,tempDist]\n",
        "      C=np.argmin(EuclidianDistance,axis=1)+1\n",
        "     #step 2.b\n",
        "      Y={}\n",
        "      for k in range(K):\n",
        "          Y[k+1]=np.array([]).reshape(2,0)\n",
        "      for i in range(m):\n",
        "          Y[C[i]]=np.c_[Y[C[i]],X[i]]\n",
        "     \n",
        "      for k in range(K):\n",
        "          Y[k+1]=Y[k+1].T\n",
        "    \n",
        "      for k in range(K):\n",
        "          Centroids[:,k]=np.mean(Y[k+1],axis=0)\n",
        "      Output=Y"
      ],
      "metadata": {
        "id": "nFB6bujGbFCc"
      },
      "execution_count": null,
      "outputs": []
    },
    {
      "cell_type": "code",
      "source": [
        "plt.scatter(X[:,0],X[:,1],c='black',label='unclustered data')\n",
        "plt.xlabel('Income')\n",
        "plt.ylabel('Number of transactions')\n",
        "plt.legend()\n",
        "plt.title('Plot of data points')\n",
        "plt.show()"
      ],
      "metadata": {
        "colab": {
          "base_uri": "https://localhost:8080/",
          "height": 295
        },
        "id": "B1uZtAnbbHzU",
        "outputId": "3261f244-5e81-4a0c-b056-0886fb5f2d97"
      },
      "execution_count": null,
      "outputs": [
        {
          "output_type": "display_data",
          "data": {
            "image/png": "[encoded data removed]",
            "text/plain": [
              "<Figure size 432x288 with 1 Axes>"
            ]
          },
          "metadata": {
            "needs_background": "light"
          }
        }
      ]
    },
    {
      "cell_type": "code",
      "source": [
        "color=['red','blue','green','cyan','magenta']\n",
        "labels=['cluster1','cluster2','cluster3','cluster4','cluster5']\n",
        "for k in range(K):\n",
        "    plt.scatter(Output[k+1][:,0],Output[k+1][:,1],c=color[k],label=labels[k])\n",
        "plt.scatter(Centroids[0,:],Centroids[1,:],s=300,c='yellow',label='Centroids')\n",
        "plt.xlabel('Income')\n",
        "plt.ylabel('Number of transactions')\n",
        "plt.legend()\n",
        "plt.show()"
      ],
      "metadata": {
        "colab": {
          "base_uri": "https://localhost:8080/",
          "height": 279
        },
        "id": "T9j_gmqBbI9M",
        "outputId": "a6ffceeb-4192-48a4-c08d-7f19f27f0ec0"
      },
      "execution_count": null,
      "outputs": [
        {
          "output_type": "display_data",
          "data": {
            "image/png": "[encoded data removed]",
            "text/plain": [
              "<Figure size 432x288 with 1 Axes>"
            ]
          },
          "metadata": {
            "needs_background": "light"
          }
        }
      ]
    }
  ]
}